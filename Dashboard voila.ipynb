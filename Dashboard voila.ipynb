{
 "cells": [
  {
   "cell_type": "markdown",
   "metadata": {},
   "source": [
    "[DIY Covid-19 Dashboard Kit](https://github.com/fsmeraldi/diy-covid19dash) (C) Fabrizio Smeraldi, 2020 ([f.smeraldi@qmul.ac.uk](mailto:f.smeraldi@qmul.ac.uk) - [web](http://www.eecs.qmul.ac.uk/~fabri/)). All rights reserved."
   ]
  },
  {
   "cell_type": "markdown",
   "metadata": {},
   "source": [
    "# Covid-19 Vaccination Amounts With Deaths"
   ]
  },
  {
   "cell_type": "markdown",
   "metadata": {},
   "source": [
    "During the pandemic misinformation surrounding vaccination effectiveness was widespread. The following graph shows the daily deaths within 28 days of a positive Covid 19 test as well as the amount of people vaccinated. Press the \"Refresh Data\" button to refresh the data, and use the drop down menu to switch between view modes."
   ]
  },
  {
   "cell_type": "code",
   "execution_count": 1,
   "metadata": {},
   "outputs": [],
   "source": [
    "# Importing necessary modules\n",
    "from IPython.display import clear_output\n",
    "import ipywidgets as wdg\n",
    "import pandas as pd\n",
    "import numpy as np\n",
    "import matplotlib.pyplot as plt\n",
    "import json\n",
    "from uk_covid19 import Cov19API"
   ]
  },
  {
   "cell_type": "code",
   "execution_count": 2,
   "metadata": {},
   "outputs": [],
   "source": [
    "%matplotlib inline\n",
    "# make figures larger\n",
    "plt.rcParams['figure.dpi'] = 100"
   ]
  },
  {
   "cell_type": "code",
   "execution_count": 3,
   "metadata": {},
   "outputs": [],
   "source": [
    "# loading data from json file\n",
    "with open(\"vaccineData.json\", \"rt\") as INFILE:\n",
    "    jsondata=json.load(INFILE)"
   ]
  },
  {
   "cell_type": "code",
   "execution_count": 4,
   "metadata": {},
   "outputs": [],
   "source": [
    "def wrangle_data(rawdata):\n",
    "    \"\"\" Parameters: rawdata - data from json file or API call. Returns a dataframe.\n",
    "    Edit to include the code that wrangles the data, creates the dataframe and fills it in. \"\"\"\n",
    "    # extracting the actual data from the data variable, which is a dictionary of dictionaries. \n",
    "    # the actual data is stored in the value associated witht he key 'data' in the highest dictionary\n",
    "    datalist = rawdata['data']\n",
    "\n",
    "    # reversing the order of the datalist such that the data entries are in order of increasing date\n",
    "    datalist.reverse()\n",
    "\n",
    "    # first extracting the dates and sorting. As the dates are in year first format we can simply\n",
    "    # use dates.sort() to sort the list.\n",
    "    dates=[dictionary['date'] for dictionary in datalist ]\n",
    "    dates.sort()\n",
    "\n",
    "    # defining a function which converts the dates into pandas format\n",
    "    def parse_date(datestring):\n",
    "        \"\"\" Convert a date string into a pandas datetime object \"\"\"\n",
    "        return pd.to_datetime(datestring, format=\"%Y-%m-%d\")\n",
    "\n",
    "    # extracting the first and last date to inform us what time frame we are investigating\n",
    "    startdate=parse_date(dates[0])\n",
    "    enddate=parse_date(dates[-1])\n",
    "\n",
    "    # creating our data frame, specifying the columns included and the date range of the data.\n",
    "    # note that the date range may include dates for which we have no data points.\n",
    "    index=pd.date_range(startdate, enddate, freq='D')\n",
    "    vaccineDataDF=pd.DataFrame(index=index, columns=['vax1', 'vax2', 'vax3', 'vaxTotal', 'deaths'])\n",
    "\n",
    "    # populating our dataframe with our data\n",
    "\n",
    "    # the dictionary defined below allowes us to keep track of all of the vaxination total entries. As these stats\n",
    "    # are naturally cummulative we wish to replace any None values with the maximum of the values that have come\n",
    "    # before it. This variable will allow us to do that.\n",
    "    maxVaxTracker = {'vax1':[0], 'vax2':[0], 'vax3':[0], 'vaxTotal':[0]}\n",
    "    for entry in datalist: # each entry is a dictionary with date, vax1, vax2, vax3, vaxTotal and deaths stats\n",
    "        date=parse_date(entry['date']) # converting the date for the data point into the pandas format\n",
    "        for column in ['vax1', 'vax2', 'vax3', 'vaxTotal', 'deaths']:\n",
    "            # adding to the tracker dictionary when the column is associated with a vaxination tracker. We add a zero\n",
    "            # if the value is none, and when we request the max of one of the lists in this dictionary, the zero will\n",
    "            # not be returned\n",
    "            if column!='deaths':\n",
    "                if entry[column]!=None:\n",
    "                    maxVaxTracker[column].append(entry[column])\n",
    "                else:\n",
    "                    maxVaxTracker[column].append(0)\n",
    "            # check that nothing is there yet - just in case some dates are duplicated,\n",
    "            # maybe with data for different columns in each entry\n",
    "            if pd.isna(vaccineDataDF.loc[date, column]): \n",
    "                # replace None with 0 in our data for the deaths column only\n",
    "                if column == 'deaths':\n",
    "                    value= float(entry[column]) if entry[column]!=None else 0.0\n",
    "                # if the column is not the deaths column then we replace the none with the max of the tracker list.\n",
    "                # Since the data is iterated through with each data point having an increased date than the previous,\n",
    "                # the max of the tracker list is the largest value before the given None datapoint, i.e the last non\n",
    "                # None value (as the vaccination stats are all cumulative).\n",
    "                else:\n",
    "                    value= float(entry[column]) if entry[column]!=None else max(maxVaxTracker[column])\n",
    "                # inserting our datapoint into the data frame\n",
    "                vaccineDataDF.loc[date, column]=value\n",
    "\n",
    "    # fill in any remaining \"holes\" due to missing dates\n",
    "    vaccineDataDF.fillna(0.0, inplace=True)\n",
    "    return vaccineDataDF\n",
    "\n",
    "# putting the wrangling code into a function allows you to call it again after refreshing the data through \n",
    "# the API. You should call the function directly on the JSON data when the dashboard starts, by including \n",
    "# the call in the cell as below:\n",
    "df=wrangle_data(jsondata) # df is the dataframe for plotting"
   ]
  },
  {
   "cell_type": "code",
   "execution_count": 5,
   "metadata": {},
   "outputs": [],
   "source": [
    "# Place your API access code in this function. Do not call this function directly; it will be called by \n",
    "# the button callback. \n",
    "def access_api():\n",
    "    \"\"\" Accesses the PHE API. Returns raw data in the same format as data loaded from the \"canned\" JSON file. \"\"\"\n",
    "    # defining filters such that we get data for the whole of the UK\n",
    "    filters = [\n",
    "    'areaType=overview' # This line specifies we are looking for data from the United Kingdom as a whole.\n",
    "    ]\n",
    "    \n",
    "    # selecting the data we wish to extract from the PHE API\n",
    "    structure = {\n",
    "    'date':'date', # Date\n",
    "    'vax1':'cumVaccinationFirstDoseUptakeByPublishDatePercentage', # Cumulative vaccination 1st dose uptake by publish date percentage\n",
    "    'vax2':'cumVaccinationSecondDoseUptakeByPublishDatePercentage', # Cumulative vaccination 2nd dose uptake by publish date percentage\n",
    "    'vax3':'cumVaccinationThirdInjectionUptakeByPublishDatePercentage', # Cumulative percentage of people vaccinated with a booster dose plus people vaccinated with third dose by publish date\n",
    "    'vaxTotal':'cumVaccinesGivenByPublishDate', # Cumulative vaccines given by publish date\n",
    "    'deaths':'newDeaths28DaysByPublishDate', # New daily deaths within 28 days of a positive test\n",
    "    }\n",
    "    \n",
    "    api = Cov19API(filters=filters, structure=structure) # instanciating the Cov19API class in order to access the API\n",
    "    vaccineData = api.get_json() # getting the data from the api and storing it in a variable\n",
    "    return vaccineData # return data read from the API"
   ]
  },
  {
   "cell_type": "code",
   "execution_count": 6,
   "metadata": {},
   "outputs": [
    {
     "data": {
      "application/vnd.jupyter.widget-view+json": {
       "model_id": "805aeb01291546e1a10265dd18e3533c",
       "version_major": 2,
       "version_minor": 0
      },
      "text/plain": [
       "Button(description='Refresh data', icon='download', style=ButtonStyle(), tooltip='Click to download current Pu…"
      ]
     },
     "metadata": {},
     "output_type": "display_data"
    }
   ],
   "source": [
    "# Printout from this function will be lost in Voila unless captured in an\n",
    "# output widget - therefore, we give feedback to the user by changing the \n",
    "# appearance of the button\n",
    "def api_button_callback(button):\n",
    "    \"\"\" Button callback - it must take the button as its parameter (unused in this case).\n",
    "    Accesses API, wrangles data, updates global variable df used for plotting. \"\"\"\n",
    "    # Getting fresh data from the API. If an error occurs, we change the style of the button to reflect that\n",
    "    # something has gone wrong but we still raise the error.\n",
    "    try:\n",
    "        apidata=access_api()\n",
    "        # wrangling the data and overwriting the dataframe for plotting\n",
    "        global df\n",
    "        df=wrangle_data(apidata)\n",
    "        # the graph won't refresh until the user interacts with the widget.\n",
    "        # this function simulates the interaction.\n",
    "        refresh_graph()\n",
    "        # in the case of a successful refresh and API download, the button is changed in appearance and is disabled.\n",
    "        apibutton.icon=\"check\"\n",
    "        apibutton.button_style=\"success\" # turns button green\n",
    "        apibutton.description=\"Data Refreshed\"\n",
    "        apibutton.disabled=True # disables button so excesive button spamming is not problematic\n",
    "        apibutton.tooltip=\"Data has been refreshed\" # changing hover over tooltip of button\n",
    "        # apibutton.disabled=True\n",
    "        \n",
    "    except Exception as e:\n",
    "        # In the case of a generic error the buttons appearance is changed, but the button is not disabled. We also\n",
    "        # still raise the exception to maintain good practice and allow building on this code.\n",
    "        apibutton.button_style=\"danger\" #changes button red in the case of an error\n",
    "        apibutton.icon=\"warning\" # displays error icon on button\n",
    "        apibutton.description=\"Error\"\n",
    "        apibutton.tooltip=\"An error occurred\"\n",
    "        raise(e)\n",
    "\n",
    "\n",
    "# Creating the refresh button and assigning appropriate attributes.  \n",
    "apibutton=wdg.Button(\n",
    "    description='Refresh data',\n",
    "    disabled=False,\n",
    "    tooltip='Click to download current Public Health England data',\n",
    "    icon='download' # (FontAwesome names without the `fa-` prefix)\n",
    ")\n",
    "\n",
    "# registering the button callback function with the button\n",
    "apibutton.on_click(api_button_callback) # the name of your function inside these brackets\n",
    "\n",
    "#displaying the button\n",
    "display(apibutton)\n",
    "\n",
    "# run all cells before clicking on this button"
   ]
  },
  {
   "cell_type": "code",
   "execution_count": 7,
   "metadata": {},
   "outputs": [
    {
     "data": {
      "application/vnd.jupyter.widget-view+json": {
       "model_id": "bfa02d17e96348948115f13359cc970e",
       "version_major": 2,
       "version_minor": 0
      },
      "text/plain": [
       "Dropdown(description='View Mode', options=('Individual rates of vaccination', 'Total number of vaccinations'),…"
      ]
     },
     "metadata": {},
     "output_type": "display_data"
    },
    {
     "data": {
      "application/vnd.jupyter.widget-view+json": {
       "model_id": "af1e9d949a16421b9e74d9d91486e665",
       "version_major": 2,
       "version_minor": 0
      },
      "text/plain": [
       "Output()"
      ]
     },
     "metadata": {},
     "output_type": "display_data"
    }
   ],
   "source": [
    "# defining the function that will plot the data showing how deaths changed as more people became vaccinated.\n",
    "def vaccine_graph(graphcolumns):\n",
    "    # storing the vaxMode objects value attributes in variable current for ease of use\n",
    "    current = vaxMode.value\n",
    "    # creating a figure and 2 sets of y axes which use subplots to allow multiple axis plotting\n",
    "    fig,ax = plt.subplots()\n",
    "    ax2 = ax.twinx()\n",
    "    \n",
    "    if current == vaxMode.options[1]: # in the case of selecting to display total vaccinations and deaths\n",
    "        # plotting deaths on the first y axis\n",
    "        ax.plot(df['deaths'], color=\"blue\")\n",
    "        # labelling axes\n",
    "        ax.set_xlabel(\"Date\", fontsize = 14)\n",
    "        # plotting total vaccines given on the other y axis\n",
    "        ax2.plot(df['vaxTotal'], color=\"orange\")\n",
    "        # labelling other y axis\n",
    "        ax2.set_ylabel(\"Total number of vaccinations\",\n",
    "              color=\"orange\",\n",
    "              fontsize=14)\n",
    "    elif current == vaxMode.options[0]: # in the case of selecting to display individual rates we plot deaths\n",
    "        # on one y axis and 3 on the second y axis\n",
    "        \n",
    "        # plotting deaths on left y axis\n",
    "        ax.plot(df['deaths'], color=\"blue\")\n",
    "        # setting labels\n",
    "        ax.set_xlabel(\"Date\", fontsize = 14)\n",
    "        # plotting all 3 individual vax stats on the right hand y axis\n",
    "        ax2.plot(df['vax1'], color=\"red\", label=\"1st Dose\")\n",
    "        ax2.plot(df['vax2'], color=\"orange\", label= \"2nd Dose\")\n",
    "        ax2.plot(df['vax3'], color=\"yellow\", label=\"3rd Dose\")\n",
    "        # setting label\n",
    "        ax2.set_ylabel(\"Vaccination percentage by dose\",\n",
    "              color=\"orange\",\n",
    "              fontsize=14)\n",
    "        #enabling a legend to distinguish between the 3 different vaccination wave stats\n",
    "        ax2.legend()\n",
    "    ax.set_ylabel(\"Number of deaths on given day\",\n",
    "      color=\"blue\",\n",
    "      fontsize=14)\n",
    "    # itterating through tick/mark labels and rotating each one by 45 degrees in order to improve readability\n",
    "    for tick in ax.get_xticklabels():\n",
    "        tick.set_rotation(45)\n",
    "    plt.show()\n",
    "\n",
    "# creating the vaxMode widget dropdown menu and specifying the attributes.\n",
    "vaxMode=wdg.Dropdown(\n",
    "    options=['Individual rates of vaccination', 'Total number of vaccinations'], # options available\n",
    "    value='Individual rates of vaccination', # initial value\n",
    "    rows=2, # rows of the selection box\n",
    "    description='View Mode', # label\n",
    "    disabled=False\n",
    ")\n",
    "\n",
    "# this function refreshes the graph by drawing the other mode and then redraws the previous mode.\n",
    "def refresh_graph():\n",
    "    \"\"\" Changing the value of the widget in order to force a redraw of the graph;\n",
    "    this is useful when the data have been updated. \"\"\"\n",
    "    current=vaxMode.value\n",
    "    if current==vaxMode.options[0]:\n",
    "        other=vaxMode.options[1]\n",
    "    else:\n",
    "        other=vaxMode.options[0]\n",
    "    vaxMode.value=other # forces the redraw\n",
    "    vaxMode.value=current # now we can change it back\n",
    "    \n",
    "# keep calling age_graph(graphcolumns=value_of_agecols); capture output in widget output    \n",
    "output=wdg.interactive_output(vaccine_graph, {'graphcolumns': vaxMode})\n",
    "\n",
    "# displays the graph\n",
    "display(vaxMode, output)"
   ]
  },
  {
   "cell_type": "markdown",
   "metadata": {},
   "source": [
    "**Author and Copyright Notice** Created by Ben Malpas using work by Fabrizio Smeraldi. \n",
    "*Based on UK Government [data](https://coronavirus.data.gov.uk/) published by [Public Health England](https://www.gov.uk/government/organisations/public-health-england).*"
   ]
  }
 ],
 "metadata": {
  "kernelspec": {
   "display_name": "Python 3 (ipykernel)",
   "language": "python",
   "name": "python3"
  },
  "language_info": {
   "codemirror_mode": {
    "name": "ipython",
    "version": 3
   },
   "file_extension": ".py",
   "mimetype": "text/x-python",
   "name": "python",
   "nbconvert_exporter": "python",
   "pygments_lexer": "ipython3",
   "version": "3.9.7"
  }
 },
 "nbformat": 4,
 "nbformat_minor": 4
}
